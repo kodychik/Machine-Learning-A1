{
 "cells": [
  {
   "cell_type": "code",
   "execution_count": null,
   "metadata": {
    "id": "57YHDUX_plLQ"
   },
   "outputs": [],
   "source": [
    "def kmeans_numpy(X, n_clusters, max_iters=100):\n",
    "\n",
    "    \"\"\"\n",
    "    Hint:\n",
    "    if implementing using numpy array:\n",
    "    the shape of the centroids are (n_clusters x 2 ), a 2D array--> each cluster is has a coordinate with makes it a 2 value\n",
    "    The shape of the labels are (for the given sample image) 512 x 512 = 262144 --> a 1D array\n",
    "    \"\"\"\n",
    "    # Initialize cluster centroids randomly\n",
    "    centroids = X[np.random.choice(len(X), n_clusters, replace=False)]\n",
    "\n",
    "    for _ in range(max_iters):\n",
    "        # Calculate the distance from each point to each centroid\n",
    "          ###########\n",
    "          # Fill here\n",
    "          ###########\n",
    "        # Assign each point to the nearest cluster\n",
    "          ###########\n",
    "          # Fill here\n",
    "          ###########\n",
    "        # Create an empty array to store the new centroids\n",
    "        new_centroids = np.zeros((n_clusters, X.shape[1]))\n",
    "\n",
    "        # Loop through each cluster\n",
    "        for i in range(n_clusters):\n",
    "            # Find all data points that belong to the current cluster\n",
    "            cluster_points = # fill here\n",
    "\n",
    "            # Calculate the mean (average) of all data points in the cluster\n",
    "            cluster_mean = # fill here\n",
    "\n",
    "            # Assign the cluster mean as the new centroid\n",
    "            new_centroids[i] = cluster_mean\n",
    "\n",
    "        # Check for convergence\n",
    "        if np.all(centroids == new_centroids):\n",
    "            break\n",
    "\n",
    "        centroids = new_centroids\n",
    "\n",
    "    return centroids, labels"
   ]
  },
  {
   "cell_type": "code",
   "execution_count": null,
   "metadata": {
    "id": "hlRDVja6tFWY"
   },
   "outputs": [],
   "source": [
    "def create_compressed_image(labels, centroids, height, width, channels):\n",
    "    \"\"\"\n",
    "    Hint:\n",
    "    Assign the cluster value to the pixel of that cluster\n",
    "    \"\"\"\n",
    "    # Step 3: Create a compressed image based on cluster centroids\n",
    "    compressed_image = np.zeros((height, width, channels), dtype=np.uint8)\n",
    "\n",
    "    for i in range(height):\n",
    "        for j in range(width):\n",
    "          ###########\n",
    "          # Fill here\n",
    "          ###########\n",
    "\n",
    "    return compressed_image"
   ]
  },
  {
   "cell_type": "code",
   "execution_count": null,
   "metadata": {
    "colab": {
     "base_uri": "https://localhost:8080/",
     "height": 333
    },
    "executionInfo": {
     "elapsed": 2650,
     "status": "error",
     "timestamp": 1697413254564,
     "user": {
      "displayName": "arash rasti",
      "userId": "02235494425480433771"
     },
     "user_tz": 240
    },
    "id": "vkQrESwytQlx",
    "outputId": "292e6933-8cdb-438b-a3e7-9738458ad0c3"
   },
   "outputs": [],
   "source": [
    "import cv2\n",
    "import numpy as np\n",
    "import os\n",
    "import matplotlib.pyplot as plt\n",
    "from sklearn.cluster import KMeans\n",
    "\n",
    "def kmeans_image_compression(image_path, num_clusters):\n",
    "    # Step 1: Load the image\n",
    "    original_image = cv2.imread(image_path)\n",
    "\n",
    "    # Convert the image to RGB color space (if it's not already)\n",
    "    original_image = cv2.cvtColor(original_image, cv2.COLOR_BGR2RGB)\n",
    "\n",
    "    # Get the dimensions of the image\n",
    "    height, width, channels = original_image.shape\n",
    "\n",
    "    # Step 2: Apply K-means clustering using numpy\n",
    "    pixel_values = original_image.reshape(-1, 3)\n",
    "    centroids, labels = kmeans_numpy(pixel_values, num_clusters)\n",
    "\n",
    "    # Step 3: Create a compressed image based on cluster centroids\n",
    "    compressed_image = create_compressed_image(labels, centroids, height, width, channels)\n",
    "\n",
    "    # Step 4: Save the compressed image\n",
    "    compressed_image_path = \"compressed_image.png\"\n",
    "    cv2.imwrite(compressed_image_path, cv2.cvtColor(compressed_image, cv2.COLOR_RGB2BGR))\n",
    "\n",
    "    # Save the original image in the same format as the compressed one\n",
    "    original_image_path = \"original_image.png\"\n",
    "    cv2.imwrite(original_image_path, cv2.cvtColor(original_image, cv2.COLOR_RGB2BGR))\n",
    "\n",
    "    # Calculate and print the compression ratio\n",
    "    original_size = os.path.getsize(original_image_path)\n",
    "    compressed_size = os.path.getsize(compressed_image_path)\n",
    "    compression_ratio = original_size / compressed_size\n",
    "\n",
    "    print(f\"Original image size: {original_size} bytes\")\n",
    "    print(f\"Compressed image size: {compressed_size} bytes\")\n",
    "    print(f\"Compression ratio: {compression_ratio:.2f}\")\n",
    "\n",
    "    # Show the original and compressed images using matplotlib\n",
    "    plt.figure(figsize=(12, 6))\n",
    "\n",
    "    plt.subplot(1, 2, 1)\n",
    "    plt.imshow(original_image)\n",
    "    plt.title(\"Original Image\")\n",
    "    plt.axis(\"off\")\n",
    "\n",
    "    plt.subplot(1, 2, 2)\n",
    "    plt.imshow(compressed_image)\n",
    "    plt.title(\"Compressed Image\")\n",
    "    plt.axis(\"off\")\n",
    "\n",
    "    plt.show()\n",
    "\n",
    "if __name__ == \"__main__\":\n",
    "    image_path = \"test_image.png\"\n",
    "\n",
    "    num_clusters = 10  # Adjust the number of clusters as needed\n",
    "    kmeans_image_compression(image_path, num_clusters)\n"
   ]
  }
 ],
 "metadata": {
  "colab": {
   "authorship_tag": "ABX9TyOLyEbwIHJQMJnxbJmVBnrm",
   "provenance": []
  },
  "kernelspec": {
   "display_name": "Python 3 (ipykernel)",
   "language": "python",
   "name": "python3"
  },
  "language_info": {
   "codemirror_mode": {
    "name": "ipython",
    "version": 3
   },
   "file_extension": ".py",
   "mimetype": "text/x-python",
   "name": "python",
   "nbconvert_exporter": "python",
   "pygments_lexer": "ipython3",
   "version": "3.9.12"
  }
 },
 "nbformat": 4,
 "nbformat_minor": 1
}
